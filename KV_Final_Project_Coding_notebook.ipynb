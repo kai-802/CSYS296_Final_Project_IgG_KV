{
 "cells": [
  {
   "cell_type": "markdown",
   "id": "20d7924e",
   "metadata": {},
   "source": [
    "Immunoglobulin G Coding Notebook, Kai Vaughn. University of Vermont-CSYS 296"
   ]
  },
  {
   "cell_type": "code",
   "execution_count": 126,
   "id": "5e176a0c",
   "metadata": {},
   "outputs": [
    {
     "name": "stdout",
     "output_type": "stream",
     "text": [
      "Once deleted, variables cannot be recovered. Proceed (y/[n])? y\n"
     ]
    }
   ],
   "source": [
    "%reset "
   ]
  },
  {
   "cell_type": "code",
   "execution_count": 127,
   "id": "c516d46f",
   "metadata": {},
   "outputs": [],
   "source": [
    "#load libraries\n",
    "\n",
    "#import libraries \n",
    "import numpy as np\n",
    "from matplotlib import pyplot as plt\n",
    "from Bio.PDB import *\n",
    "import nglview as nv\n",
    "import ipywidgets\n",
    "# part 2\n",
    "from Bio import SeqIO\n",
    "from Bio.Blast import NCBIWWW\n",
    "from Bio.Blast import NCBIXML\n",
    "from scipy.integrate import solve_ivp\n"
   ]
  },
  {
   "cell_type": "code",
   "execution_count": 128,
   "id": "702e69f0",
   "metadata": {},
   "outputs": [
    {
     "name": "stderr",
     "output_type": "stream",
     "text": [
      "C:\\Users\\kazia\\anaconda3\\lib\\site-packages\\Bio\\PDB\\StructureBuilder.py:89: PDBConstructionWarning: WARNING: Chain H is discontinuous at line 11405.\n",
      "  warnings.warn(\n",
      "C:\\Users\\kazia\\anaconda3\\lib\\site-packages\\Bio\\PDB\\StructureBuilder.py:89: PDBConstructionWarning: WARNING: Chain K is discontinuous at line 11420.\n",
      "  warnings.warn(\n",
      "C:\\Users\\kazia\\anaconda3\\lib\\site-packages\\Bio\\PDB\\StructureBuilder.py:89: PDBConstructionWarning: WARNING: Chain L is discontinuous at line 11458.\n",
      "  warnings.warn(\n",
      "C:\\Users\\kazia\\anaconda3\\lib\\site-packages\\Bio\\PDB\\StructureBuilder.py:89: PDBConstructionWarning: WARNING: Chain M is discontinuous at line 11464.\n",
      "  warnings.warn(\n",
      "C:\\Users\\kazia\\anaconda3\\lib\\site-packages\\Bio\\PDB\\StructureBuilder.py:89: PDBConstructionWarning: WARNING: Chain A is discontinuous at line 21268.\n",
      "  warnings.warn(\n",
      "C:\\Users\\kazia\\anaconda3\\lib\\site-packages\\Bio\\PDB\\StructureBuilder.py:89: PDBConstructionWarning: WARNING: Chain B is discontinuous at line 21273.\n",
      "  warnings.warn(\n",
      "C:\\Users\\kazia\\anaconda3\\lib\\site-packages\\Bio\\PDB\\StructureBuilder.py:89: PDBConstructionWarning: WARNING: Chain A is discontinuous at line 21293.\n",
      "  warnings.warn(\n",
      "C:\\Users\\kazia\\anaconda3\\lib\\site-packages\\Bio\\PDB\\StructureBuilder.py:89: PDBConstructionWarning: WARNING: Chain B is discontinuous at line 21445.\n",
      "  warnings.warn(\n",
      "C:\\Users\\kazia\\anaconda3\\lib\\site-packages\\Bio\\PDB\\StructureBuilder.py:89: PDBConstructionWarning: WARNING: Chain F is discontinuous at line 21654.\n",
      "  warnings.warn(\n",
      "C:\\Users\\kazia\\anaconda3\\lib\\site-packages\\Bio\\PDB\\StructureBuilder.py:89: PDBConstructionWarning: WARNING: Chain G is discontinuous at line 21670.\n",
      "  warnings.warn(\n"
     ]
    }
   ],
   "source": [
    "#Get structures\n",
    "pdb_parser = PDBParser()\n",
    "#Human IgG1, IgG4 - These are the only two immunoglobulins with complete structures\n",
    "h_igg1 = pdb_parser.get_structure('hu_igg1', \"hu_igg1.pdb\")\n",
    "h_igg4 = pdb_parser.get_structure('hu_igg4', \"hu_igg4.pdb\")\n"
   ]
  },
  {
   "cell_type": "code",
   "execution_count": 129,
   "id": "4b10ea78",
   "metadata": {},
   "outputs": [
    {
     "data": {
      "application/vnd.jupyter.widget-view+json": {
       "model_id": "1cc74e4ecf464508a2eb6200500f7598",
       "version_major": 2,
       "version_minor": 0
      },
      "text/plain": [
       "NGLWidget()"
      ]
     },
     "metadata": {},
     "output_type": "display_data"
    }
   ],
   "source": [
    "#visualize each protein with biopython\n",
    "igg1 = nv.show_biopython(h_igg1)\n",
    "igg4 = nv.show_biopython(h_igg4)\n",
    "\n",
    "#call the individual proteins for visualization\n",
    "igg1\n"
   ]
  },
  {
   "cell_type": "code",
   "execution_count": 130,
   "id": "4284b433",
   "metadata": {},
   "outputs": [
    {
     "data": {
      "application/vnd.jupyter.widget-view+json": {
       "model_id": "077aa2693a784a9eb22e488c5ef98634",
       "version_major": 2,
       "version_minor": 0
      },
      "text/plain": [
       "NGLWidget()"
      ]
     },
     "metadata": {},
     "output_type": "display_data"
    }
   ],
   "source": [
    "igg4 #call the individual proteins for visualization"
   ]
  },
  {
   "cell_type": "code",
   "execution_count": 175,
   "id": "b9d8203c",
   "metadata": {},
   "outputs": [],
   "source": [
    "#build Michaelis-Menten kinetics w SPIKE Antigen model \n",
    "#This function was written by Dr. David Bernstein, University of Vermont, for CSYS 296: Comp. Bio for enzyme kinetics modeling using a Michaelis Menten approach\n",
    "\n",
    "#we can model antibody neutralizing abilities with Michaelis-Menten enzyme kinetics\n",
    "#Substrate = antigen , #enzyme = antibody\n",
    "\n",
    "# Constants\n",
    "K_cat = 4000\n",
    "K_M = 4.6e-7   # 'antibody' average Kd value\n",
    "# Variables \n",
    "E_0 = 6.4e-5 #initial antibody content \n",
    "# ODE\n",
    "def MM_dynamics(t,y,K_cat,K_M,E_0):\n",
    "    # y[0] = B product\n",
    "    # y[1] = A reactant\n",
    "    dydt = np.zeros(2)\n",
    "    v = K_cat*E_0*(y[1]/(K_M+y[1])) #E_0 is Enzyme total\n",
    "    dydt[0] = v  #totol amount of enzyme \n",
    "    dydt[1] = -v\n",
    "    return dydt"
   ]
  },
  {
   "cell_type": "code",
   "execution_count": 176,
   "id": "259d3a36",
   "metadata": {},
   "outputs": [],
   "source": [
    "# Initial Conditions\n",
    "y0 = [0,1000]\n",
    "# time span\n",
    "t = np.linspace(0,2500)\n",
    "tspan = [t[0],t[-1]]\n",
    "\n",
    "ode_sol = solve_ivp(lambda t,y:MM_dynamics(t,y,K_cat,K_M,E_0),tspan,y0,t_eval=t)"
   ]
  },
  {
   "cell_type": "code",
   "execution_count": 177,
   "id": "804f4c54",
   "metadata": {},
   "outputs": [
    {
     "data": {
      "text/plain": [
       "Text(0.5, 1.0, 'Initial COVID Infection')"
      ]
     },
     "execution_count": 177,
     "metadata": {},
     "output_type": "execute_result"
    },
    {
     "data": {
      "image/png": "[encoded data removed]",
      "text/plain": [
       "<Figure size 432x288 with 1 Axes>"
      ]
     },
     "metadata": {
      "needs_background": "light"
     },
     "output_type": "display_data"
    }
   ],
   "source": [
    "plt.plot(t,ode_sol.y[0], color = 'black')\n",
    "plt.plot(t,ode_sol.y[1], color = 'blue')\n",
    "plt.xlabel('time [s]')\n",
    "plt.ylabel('concentration [mM]')\n",
    "plt.legend(['Antibody (conjugated to SPIKE)','Target Antigen (SPIKE)']);\n",
    "plt.title(\"Initial COVID Infection\")"
   ]
  },
  {
   "cell_type": "code",
   "execution_count": 184,
   "id": "bde8c154",
   "metadata": {},
   "outputs": [],
   "source": [
    "# Constants\n",
    "K_cat = 4000\n",
    "K_M = 7.0e-9    # 'antibody' mM concentration based upon peak \n",
    "# Variables \n",
    "E_0 = 3e-4\n",
    "# ODE\n",
    "def MM_dynamics(t,y,K_cat,K_M,E_0):\n",
    "    # y[0] = B product\n",
    "    # y[1] = A reactant\n",
    "    dydt = np.zeros(2)\n",
    "    v = K_cat*E_0*(y[1]/(K_M+y[1])) #E_0 is Enzyme total\n",
    "    dydt[0] = v  #totol amount of enzyme \n",
    "    dydt[1] = -v\n",
    "    return dydt\n",
    "\n",
    "# Initial Conditions\n",
    "y0 = [0,1000]\n",
    "# time span\n",
    "t = np.linspace(0,2000)\n",
    "tspan = [t[0],t[-1]]\n",
    "\n",
    "ode_sol = solve_ivp(lambda t,y:MM_dynamics(t,y,K_cat,K_M,E_0),tspan,y0,t_eval=t)"
   ]
  },
  {
   "cell_type": "code",
   "execution_count": 188,
   "id": "80ab3df9",
   "metadata": {},
   "outputs": [
    {
     "data": {
      "text/plain": [
       "(0.0, 2000.0)"
      ]
     },
     "execution_count": 188,
     "metadata": {},
     "output_type": "execute_result"
    },
    {
     "data": {
      "image/png": "[encoded data removed]",
      "text/plain": [
       "<Figure size 432x288 with 1 Axes>"
      ]
     },
     "metadata": {
      "needs_background": "light"
     },
     "output_type": "display_data"
    }
   ],
   "source": [
    "plt.plot(t,ode_sol.y[0], color = 'black')\n",
    "plt.plot(t,ode_sol.y[1], color = 'green')\n",
    "plt.xlabel('time [s]')\n",
    "plt.ylabel('concentration [mM]')\n",
    "plt.legend(['Antibody (conjugated to SPIKE)','Target Antigen (SPIKE)']);\n",
    "plt.title(\"Second Covid Infection\")\n",
    "plt.ylim(0,2000)"
   ]
  },
  {
   "cell_type": "code",
   "execution_count": null,
   "id": "bc14ec5e",
   "metadata": {},
   "outputs": [],
   "source": []
  },
  {
   "cell_type": "code",
   "execution_count": null,
   "id": "ec14c081",
   "metadata": {},
   "outputs": [],
   "source": []
  }
 ],
 "metadata": {
  "kernelspec": {
   "display_name": "Python 3 (ipykernel)",
   "language": "python",
   "name": "python3"
  },
  "language_info": {
   "codemirror_mode": {
    "name": "ipython",
    "version": 3
   },
   "file_extension": ".py",
   "mimetype": "text/x-python",
   "name": "python",
   "nbconvert_exporter": "python",
   "pygments_lexer": "ipython3",
   "version": "3.9.12"
  }
 },
 "nbformat": 4,
 "nbformat_minor": 5
}
